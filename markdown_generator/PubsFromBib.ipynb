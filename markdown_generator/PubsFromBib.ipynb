{
 "cells": [
  {
   "cell_type": "markdown",
   "source": [
    "# Publications markdown generator for academicpages\n",
    "\n",
    "Takes a set of bibtex of publications and converts them for use with [academicpages.github.io](academicpages.github.io). This is an interactive Jupyter notebook ([see more info here](http://jupyter-notebook-beginner-guide.readthedocs.io/en/latest/what_is_jupyter.html)). \n",
    "\n",
    "The core python code is also in `pubsFromBibs.py`. \n",
    "Run either from the `markdown_generator` folder after replacing updating the publist dictionary with:\n",
    "* bib file names\n",
    "* specific venue keys based on your bib file preferences\n",
    "* any specific pre-text for specific files\n",
    "* Collection Name (future feature)\n",
    "\n",
    "TODO: Make this work with other databases of citations, \n",
    "TODO: Merge this with the existing TSV parsing solution"
   ],
   "metadata": {}
  },
  {
   "cell_type": "code",
   "execution_count": 2,
   "source": [
    "!pip install pybtex"
   ],
   "outputs": [
    {
     "output_type": "stream",
     "name": "stdout",
     "text": [
      "Collecting pybtex\n",
      "  Downloading pybtex-0.24.0-py2.py3-none-any.whl (561 kB)\n",
      "Requirement already satisfied: PyYAML>=3.01 in c:\\programdata\\anaconda3\\lib\\site-packages (from pybtex) (5.3.1)\n",
      "Collecting latexcodec>=1.0.4\n",
      "  Downloading latexcodec-2.0.1-py2.py3-none-any.whl (18 kB)\n",
      "Requirement already satisfied: six in c:\\programdata\\anaconda3\\lib\\site-packages (from pybtex) (1.15.0)\n",
      "Installing collected packages: latexcodec, pybtex\n",
      "Successfully installed latexcodec-2.0.1 pybtex-0.24.0\n"
     ]
    }
   ],
   "metadata": {}
  },
  {
   "cell_type": "code",
   "execution_count": 7,
   "source": [
    "from pybtex.database.input import bibtex\r\n",
    "import pybtex.database.input.bibtex \r\n",
    "from time import strptime\r\n",
    "import string\r\n",
    "import html\r\n",
    "import os\r\n",
    "import re"
   ],
   "outputs": [],
   "metadata": {}
  },
  {
   "cell_type": "code",
   "execution_count": 8,
   "source": [
    "#todo: incorporate different collection types rather than a catch all publications, requires other changes to template\r\n",
    "publist = {\r\n",
    "    \"journal\":{\r\n",
    "        \"file\": \"ref.bib\",\r\n",
    "        \"venuekey\" : \"journal\",\r\n",
    "        \"venue-pretext\" : \"\",\r\n",
    "        \"collection\" : {\"name\":\"publications\",\r\n",
    "                        \"permalink\":\"/publication/\"}\r\n",
    "    } \r\n",
    "}"
   ],
   "outputs": [],
   "metadata": {}
  },
  {
   "cell_type": "code",
   "execution_count": 9,
   "source": [
    "html_escape_table = {\r\n",
    "    \"&\": \"&amp;\",\r\n",
    "    '\"': \"&quot;\",\r\n",
    "    \"'\": \"&apos;\"\r\n",
    "    }\r\n",
    "\r\n",
    "def html_escape(text):\r\n",
    "    \"\"\"Produce entities within text.\"\"\"\r\n",
    "    return \"\".join(html_escape_table.get(c,c) for c in text)"
   ],
   "outputs": [],
   "metadata": {}
  },
  {
   "cell_type": "code",
   "execution_count": 10,
   "source": [
    "for pubsource in publist:\r\n",
    "    parser = bibtex.Parser()\r\n",
    "    bibdata = parser.parse_file(publist[pubsource][\"file\"])\r\n",
    "\r\n",
    "    #loop through the individual references in a given bibtex file\r\n",
    "    for bib_id in bibdata.entries:\r\n",
    "        #reset default date\r\n",
    "        pub_year = \"1900\"\r\n",
    "        pub_month = \"01\"\r\n",
    "        pub_day = \"01\"\r\n",
    "        \r\n",
    "        b = bibdata.entries[bib_id].fields\r\n",
    "        \r\n",
    "        try:\r\n",
    "            pub_year = f'{b[\"year\"]}'\r\n",
    "\r\n",
    "            #todo: this hack for month and day needs some cleanup\r\n",
    "            if \"month\" in b.keys(): \r\n",
    "                if(len(b[\"month\"])<3):\r\n",
    "                    pub_month = \"0\"+b[\"month\"]\r\n",
    "                    pub_month = pub_month[-2:]\r\n",
    "                elif(b[\"month\"] not in range(12)):\r\n",
    "                    tmnth = strptime(b[\"month\"][:3],'%b').tm_mon   \r\n",
    "                    pub_month = \"{:02d}\".format(tmnth) \r\n",
    "                else:\r\n",
    "                    pub_month = str(b[\"month\"])\r\n",
    "            if \"day\" in b.keys(): \r\n",
    "                pub_day = str(b[\"day\"])\r\n",
    "\r\n",
    "                \r\n",
    "            pub_date = pub_year+\"-\"+pub_month+\"-\"+pub_day\r\n",
    "            \r\n",
    "            #strip out {} as needed (some bibtex entries that maintain formatting)\r\n",
    "            clean_title = b[\"title\"].replace(\"{\", \"\").replace(\"}\",\"\").replace(\"\\\\\",\"\").replace(\" \",\"-\")    \r\n",
    "\r\n",
    "            url_slug = re.sub(\"\\\\[.*\\\\]|[^a-zA-Z0-9_-]\", \"\", clean_title)\r\n",
    "            url_slug = url_slug.replace(\"--\",\"-\")\r\n",
    "\r\n",
    "            md_filename = (str(pub_date) + \"-\" + url_slug + \".md\").replace(\"--\",\"-\")\r\n",
    "            html_filename = (str(pub_date) + \"-\" + url_slug).replace(\"--\",\"-\")\r\n",
    "\r\n",
    "            #Build Citation from text\r\n",
    "            citation = \"\"\r\n",
    "\r\n",
    "            #citation authors - todo - add highlighting for primary author?\r\n",
    "            for author in bibdata.entries[bib_id].persons[\"author\"]:\r\n",
    "                citation = citation+\" \"+author.first_names[0]+\" \"+author.last_names[0]+\", \"\r\n",
    "\r\n",
    "            #citation title\r\n",
    "            citation = citation + \"\\\"\" + html_escape(b[\"title\"].replace(\"{\", \"\").replace(\"}\",\"\").replace(\"\\\\\",\"\")) + \".\\\"\"\r\n",
    "\r\n",
    "            #add venue logic depending on citation type\r\n",
    "            venue = publist[pubsource][\"venue-pretext\"]+b[publist[pubsource][\"venuekey\"]].replace(\"{\", \"\").replace(\"}\",\"\").replace(\"\\\\\",\"\")\r\n",
    "\r\n",
    "            citation = citation + \" \" + html_escape(venue)\r\n",
    "            citation = citation + \", \" + pub_year + \".\"\r\n",
    "\r\n",
    "            \r\n",
    "            ## YAML variables\r\n",
    "            md = \"---\\ntitle: \\\"\"   + html_escape(b[\"title\"].replace(\"{\", \"\").replace(\"}\",\"\").replace(\"\\\\\",\"\")) + '\"\\n'\r\n",
    "            \r\n",
    "            md += \"\"\"collection: \"\"\" +  publist[pubsource][\"collection\"][\"name\"]\r\n",
    "\r\n",
    "            md += \"\"\"\\npermalink: \"\"\" + publist[pubsource][\"collection\"][\"permalink\"]  + html_filename\r\n",
    "            \r\n",
    "            note = False\r\n",
    "            if \"note\" in b.keys():\r\n",
    "                if len(str(b[\"note\"])) > 5:\r\n",
    "                    md += \"\\nexcerpt: '\" + html_escape(b[\"note\"]) + \"'\"\r\n",
    "                    note = True\r\n",
    "\r\n",
    "            md += \"\\ndate: \" + str(pub_date) \r\n",
    "\r\n",
    "            md += \"\\nvenue: '\" + html_escape(venue) + \"'\"\r\n",
    "            \r\n",
    "            url = False\r\n",
    "            if \"url\" in b.keys():\r\n",
    "                if len(str(b[\"url\"])) > 5:\r\n",
    "                    md += \"\\npaperurl: '\" + b[\"url\"] + \"'\"\r\n",
    "                    url = True\r\n",
    "\r\n",
    "            md += \"\\ncitation: '\" + html_escape(citation) + \"'\"\r\n",
    "\r\n",
    "            md += \"\\n---\"\r\n",
    "\r\n",
    "            \r\n",
    "            ## Markdown description for individual page\r\n",
    "            if note:\r\n",
    "                md += \"\\n\" + html_escape(b[\"note\"]) + \"\\n\"\r\n",
    "\r\n",
    "            if url:\r\n",
    "                md += \"\\n[Access paper here](\" + b[\"url\"] + \"){:target=\\\"_blank\\\"}\\n\" \r\n",
    "            else:\r\n",
    "                md += \"\\nUse [Google Scholar](https://scholar.google.com/scholar?q=\"+html.escape(clean_title.replace(\"-\",\"+\"))+\"){:target=\\\"_blank\\\"} for full citation\"\r\n",
    "\r\n",
    "            md_filename = os.path.basename(md_filename)\r\n",
    "\r\n",
    "            with open(\"../_publications/\" + md_filename, 'w') as f:\r\n",
    "                f.write(md)\r\n",
    "            print(f'SUCESSFULLY PARSED {bib_id}: \\\"', b[\"title\"][:60],\"...\"*(len(b['title'])>60),\"\\\"\")\r\n",
    "        # field may not exist for a reference\r\n",
    "        except KeyError as e:\r\n",
    "            print(f'WARNING Missing Expected Field {e} from entry {bib_id}: \\\"', b[\"title\"][:30],\"...\"*(len(b['title'])>30),\"\\\"\")\r\n",
    "            continue\r\n"
   ],
   "outputs": [
    {
     "output_type": "stream",
     "name": "stdout",
     "text": [
      "SUCESSFULLY PARSED GOU201573: \" Modeling fracture in the context of a strain-limiting theory ... \"\n"
     ]
    }
   ],
   "metadata": {
    "scrolled": false
   }
  },
  {
   "cell_type": "code",
   "execution_count": null,
   "source": [],
   "outputs": [],
   "metadata": {}
  }
 ],
 "metadata": {
  "kernelspec": {
   "name": "python3",
   "display_name": "Python 3.8.3 64-bit ('base': conda)"
  },
  "language_info": {
   "codemirror_mode": {
    "name": "ipython",
    "version": 3
   },
   "file_extension": ".py",
   "mimetype": "text/x-python",
   "name": "python",
   "nbconvert_exporter": "python",
   "pygments_lexer": "ipython3",
   "version": "3.8.3"
  },
  "interpreter": {
   "hash": "b3ba2566441a7c06988d0923437866b63cedc61552a5af99d1f4fb67d367b25f"
  }
 },
 "nbformat": 4,
 "nbformat_minor": 2
}